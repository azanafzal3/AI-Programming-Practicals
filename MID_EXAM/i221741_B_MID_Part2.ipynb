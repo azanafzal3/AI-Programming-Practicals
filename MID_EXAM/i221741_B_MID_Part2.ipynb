{
 "cells": [
  {
   "cell_type": "markdown",
   "metadata": {},
   "source": [
    "### Do Not Edit This Code.\n"
   ]
  },
  {
   "cell_type": "code",
   "execution_count": 1,
   "metadata": {},
   "outputs": [],
   "source": [
    "import heapq\n",
    "from collections import deque\n"
   ]
  },
  {
   "cell_type": "code",
   "execution_count": 2,
   "metadata": {},
   "outputs": [],
   "source": [
    "dictionary_file = \"words.txt\""
   ]
  },
  {
   "cell_type": "code",
   "execution_count": null,
   "metadata": {},
   "outputs": [],
   "source": [
    "def load_dictionary(dictionary_file):\n",
    "    \"\"\"\n",
    "    Load a predefined dictionary of words.\n",
    "    \n",
    "    \"\"\"\n",
    "    file = open(dictionary_file,'r')\n",
    "    words = set(word.strip().lower() for word in file.readlines())\n",
    "    return words\n",
    "    "
   ]
  },
  {
   "cell_type": "code",
   "execution_count": 4,
   "metadata": {},
   "outputs": [],
   "source": [
    "word_dict = load_dictionary(dictionary_file)"
   ]
  },
  {
   "cell_type": "code",
   "execution_count": null,
   "metadata": {},
   "outputs": [],
   "source": [
    "\n",
    "\n",
    "def is_valid_word( word,dictionary):\n",
    "    \n",
    "    \"\"\"\n",
    "    Check if a word is valid according to the dictionary.\n",
    "    \"\"\"\n",
    "    return word in dictionary  # Implement dictionary lookup"
   ]
  },
  {
   "cell_type": "markdown",
   "metadata": {},
   "source": [
    "### _Graph Building_\n",
    "\n",
    "build_graph function builds a graph with each words neighbor infront of it. Neighbors are the those words which have 1 letter different than the parent node.\n",
    "\n",
    "For example:\n",
    "\n",
    "cat: [bat,hat,lat],#Neighbors of cat\n",
    "\n",
    "In above example parent node is _\"cat\"_ and neighbors are _[bat,hat,lat]_\n"
   ]
  },
  {
   "cell_type": "code",
   "execution_count": 1,
   "metadata": {},
   "outputs": [],
   "source": [
    "def build_graph(words):\n",
    "    \"\"\"\n",
    "    Build a graph where each word is a node, and edges connect words that are one letter apart.\n",
    "    \n",
    "    Args:\n",
    "        words (set): A set of valid words.\n",
    "    \n",
    "    Returns:\n",
    "        dict: A graph represented as a dictionary where keys are words and values are lists of connected words.\n",
    "    \"\"\"\n",
    "    graph = {}  # Initialize an empty graph\n",
    "    for word in words:  # Iterate through each word in the dictionary\n",
    "        graph[word] = []  # Initialize an empty list for connected words\n",
    "        for i in range(len(word)):  # Iterate through each character position in the word\n",
    "            for letter in 'abcdefghijklmnopqrstuvwxyz':  # Try replacing the character with every letter in the alphabet\n",
    "                if letter != word[i]:  # Skip if the new letter is the same as the current letter\n",
    "                    new_word = word[:i] + letter + word[i+1:]  # Create a new word by replacing the character\n",
    "                    if new_word in words:  # Check if the new word is in the dictionary\n",
    "                        graph[word].append(new_word)  # Add the new word to the list of connected words\n",
    "    return graph  # Return the completed graph"
   ]
  },
  {
   "cell_type": "code",
   "execution_count": null,
   "metadata": {},
   "outputs": [
    {
     "ename": "NameError",
     "evalue": "name 'word1' is not defined",
     "output_type": "error",
     "traceback": [
      "\u001b[1;31m---------------------------------------------------------------------------\u001b[0m",
      "\u001b[1;31mNameError\u001b[0m                                 Traceback (most recent call last)",
      "Cell \u001b[1;32mIn[4], line 1\u001b[0m\n\u001b[1;32m----> 1\u001b[0m graph \u001b[38;5;241m=\u001b[39m build_graph(\u001b[43mword1\u001b[49m)\n\u001b[0;32m      3\u001b[0m \u001b[38;5;28mprint\u001b[39m(graph[\u001b[38;5;124m\"\u001b[39m\u001b[38;5;124mcat\u001b[39m\u001b[38;5;124m\"\u001b[39m]) \u001b[38;5;66;03m#Printing Neighbors of cat.\u001b[39;00m\n\u001b[0;32m      4\u001b[0m \u001b[38;5;28mprint\u001b[39m(graph[\u001b[38;5;124m\"\u001b[39m\u001b[38;5;124mhat\u001b[39m\u001b[38;5;124m\"\u001b[39m]) \u001b[38;5;66;03m#Printing Neighbors of bat.\u001b[39;00m\n",
      "\u001b[1;31mNameError\u001b[0m: name 'word1' is not defined"
     ]
    }
   ],
   "source": [
    "graph = build_graph(word_dict)\n",
    "\n",
    "print(graph[\"cat\"]) #Printing Neighbors of cat.\n",
    "print(graph[\"hat\"]) #Printing Neighbors of bat.\n"
   ]
  },
  {
   "cell_type": "markdown",
   "metadata": {},
   "source": [
    "### Get Heuristic Cost\n",
    "\n",
    "def heuristics(word,target)\n",
    "\n",
    "Generates heuristic cost of a word to target. For our scenario our heuristic is the difference in number of characters between 2 words.\n",
    "\n",
    "For example: cat and hat has 1 heuristic because only 1 character is different.\n"
   ]
  },
  {
   "cell_type": "code",
   "execution_count": null,
   "metadata": {},
   "outputs": [],
   "source": [
    "\n",
    "def heuristic(word, target):\n",
    "    \"\"\"\n",
    "    Calculate the heuristic value (estimated cost) to reach the target word.\n",
    "    \n",
    "    Args:\n",
    "        word (str): The current word.\n",
    "        target (str): The target word.\n",
    "    \n",
    "    Returns:\n",
    "        int: The number of differing characters between the current word and the target word.\n",
    "    \"\"\"\n",
    "    return sum(1 for a, b in zip(word, target) if a != b)  # Count the number of differing characters"
   ]
  },
  {
   "cell_type": "code",
   "execution_count": 9,
   "metadata": {},
   "outputs": [
    {
     "name": "stdout",
     "output_type": "stream",
     "text": [
      "Heuristic of cat and hat =>  1\n",
      "Heuristic of cat and dog =>  3\n"
     ]
    }
   ],
   "source": [
    "print(\"Heuristic of cat and hat => \",heuristic(\"cat\",\"hat\"))\n",
    "print(\"Heuristic of cat and dog => \",heuristic(\"cat\",\"dog\"))\n"
   ]
  },
  {
   "cell_type": "markdown",
   "metadata": {},
   "source": [
    "### _Do Not Edit Code Above this cell_\n"
   ]
  },
  {
   "cell_type": "markdown",
   "metadata": {},
   "source": [
    "### Informed Search\n",
    "\n",
    "You are Required To Implement A\\* Search Algorithm.\n",
    "\n",
    "It uses heuristic function h(n), and cost to reach the node n from the start state g(n). It has combined features of UCS and greedy best-first search, by which it solve the problem efficiently. A\\* search algorithm finds the shortest path through the search space using the heuristic function. This search algorithm expands less search tree and provides optimal result faster.\n"
   ]
  },
  {
   "cell_type": "markdown",
   "metadata": {},
   "source": [
    "In our scenario the actual cost between nodes is always 1.\n",
    "\n",
    "For Example: cat ---> bat has cost = 1\n",
    "\n",
    "Remember this is not the heuristic you need to compute that using the function given above.\n"
   ]
  },
  {
   "cell_type": "code",
   "execution_count": null,
   "metadata": {},
   "outputs": [],
   "source": [
    "\n",
    "\n",
    "def Astar(graph, heuristic, start, goal):\n",
    "    priority_queue = [(0 + heuristic[start], 0, start)]  # (f-cost, g-cost, node)\n",
    "    parent = {start: None}  # Track parent nodes\n",
    "    g_costs = {start: 0}  \n",
    "\n",
    "    while priority_queue:\n",
    "        _, g_cost, current = heapq.heappop(priority_queue)  # Get node with lowest f-cost\n",
    "\n",
    "        if current == goal:\n",
    "            path = []\n",
    "            temp = current\n",
    "            while temp is not None:\n",
    "                path.insert(0, temp)  # Insert at the beginning\n",
    "                temp = parent[temp]\n",
    "            return g_cost, path  \n",
    "\n",
    "        for neighbor, cost in graph[current].items():  # Iterate over neighbors\n",
    "            new_g_cost = g_cost + cost  # Calculate new g-cost\n",
    "\n",
    "            if neighbor not in g_costs or new_g_cost < g_costs[neighbor]:  \n",
    "                g_costs[neighbor] = new_g_cost  # Update g-cost\n",
    "                f_cost = new_g_cost + heuristic[neighbor]  # f = g + h\n",
    "                heapq.heappush(priority_queue, (f_cost, new_g_cost, neighbor))\n",
    "                parent[neighbor] = current  \n",
    "\n",
    "    return None\n",
    "    "
   ]
  },
  {
   "cell_type": "code",
   "execution_count": 11,
   "metadata": {},
   "outputs": [],
   "source": [
    "start_word = \"cat\";\n",
    "target_word = \"dog\";"
   ]
  },
  {
   "cell_type": "code",
   "execution_count": 12,
   "metadata": {},
   "outputs": [
    {
     "name": "stdout",
     "output_type": "stream",
     "text": [
      "None\n"
     ]
    }
   ],
   "source": [
    "print(a_star_search(graph,start_word,target_word))"
   ]
  },
  {
   "cell_type": "code",
   "execution_count": null,
   "metadata": {},
   "outputs": [],
   "source": []
  },
  {
   "cell_type": "code",
   "execution_count": null,
   "metadata": {},
   "outputs": [],
   "source": []
  },
  {
   "cell_type": "code",
   "execution_count": null,
   "metadata": {},
   "outputs": [],
   "source": []
  },
  {
   "cell_type": "code",
   "execution_count": null,
   "metadata": {},
   "outputs": [],
   "source": []
  }
 ],
 "metadata": {
  "kernelspec": {
   "display_name": "Python 3",
   "language": "python",
   "name": "python3"
  },
  "language_info": {
   "codemirror_mode": {
    "name": "ipython",
    "version": 3
   },
   "file_extension": ".py",
   "mimetype": "text/x-python",
   "name": "python",
   "nbconvert_exporter": "python",
   "pygments_lexer": "ipython3",
   "version": "3.11.0"
  }
 },
 "nbformat": 4,
 "nbformat_minor": 2
}
