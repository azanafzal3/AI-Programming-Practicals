{
 "cells": [
  {
   "cell_type": "code",
   "execution_count": 1,
   "metadata": {},
   "outputs": [],
   "source": [
    "import pandas as pd\n",
    "import numpy as np"
   ]
  },
  {
   "cell_type": "code",
   "execution_count": 2,
   "metadata": {},
   "outputs": [],
   "source": [
    "data = np.array([[5378.0, 3270.0, 8750.0, 1989.0, 5961.0, 1560.0],\n",
    " [9357.0, 4379.0, 6068.0, 6608.0, np.nan, 4060.0],\n",
    " [np.nan, 9102.0, 3358.0, np.nan, 9201.0, 1331.0],\n",
    " [2860.0, np.nan, 800.0, 4621.0, 5203.0, 6473.0],\n",
    " [9213.0, 9550.0, np.nan, 8094.0, 2622.0, 8032.0],\n",
    " [6799.0, 1010.0, 289.0, 2822.0, 1332.0, 6772.0],\n",
    " [9329.0, 1426.0, 709.0, 8300.0, np.nan, np.nan],\n",
    " [1039.0, 720.0, 5781.0, 9407.0, 9304.0, 2636.0],\n",
    " [2316.0, np.nan, 2151.0, 1652.0, 9211.0, 8577.0]])"
   ]
  },
  {
   "cell_type": "code",
   "execution_count": 11,
   "metadata": {},
   "outputs": [
    {
     "name": "stdout",
     "output_type": "stream",
     "text": [
      "Maximum values are:\n",
      "[9357. 9550. 8750. 9407. 9304. 8577.]\n",
      "Minimum values are:\n",
      "[1039.  720.  289. 1652. 1332. 1331.]\n"
     ]
    }
   ],
   "source": [
    "# find max,min value of each column while ignoring nan values\n",
    "max_values=np.nanmax(data,axis=0)\n",
    "min_values=np.nanmin(data,axis=0)\n",
    "\n",
    "print(\"Maximum values are:\")\n",
    "print(max_values)\n",
    "\n",
    "print(\"Minimum values are:\")\n",
    "print(min_values)\n"
   ]
  },
  {
   "cell_type": "code",
   "execution_count": 13,
   "metadata": {},
   "outputs": [
    {
     "name": "stdout",
     "output_type": "stream",
     "text": [
      "Maximum indices are:\n",
      "[1 4 0 7 7 8]\n",
      "Minimum indices are:\n",
      "[7 7 5 8 5 2]\n"
     ]
    }
   ],
   "source": [
    "# find indices of min and max value\n",
    "max_indices=np.nanargmax(data,axis=0)\n",
    "min_indices=np.nanargmin(data,axis=0)\n",
    "\n",
    "print(\"Maximum indices are:\")\n",
    "print(max_indices)\n",
    "\n",
    "print(\"Minimum indices are:\")\n",
    "print(min_indices)\n"
   ]
  },
  {
   "cell_type": "code",
   "execution_count": 17,
   "metadata": {},
   "outputs": [
    {
     "name": "stdout",
     "output_type": "stream",
     "text": [
      "Sum of each column excluding nan value is:\n",
      "[46291. 29457. 27906. 43493. 42834. 39441.]\n",
      "Average of each column excluding nan value is:\n",
      "[5786.375      4208.14285714 3488.25       5436.625      6119.14285714\n",
      " 4930.125     ]\n",
      "Standard Deviation of each column excluding nan value is:\n",
      "[3189.40111688 3454.40002765 2885.07251859 2874.62101578 3052.20788604\n",
      " 2716.29027524]\n",
      "Variances of each column excluding nan value is:\n",
      "[10172279.484375   11932879.55102041  8323643.4375      8263445.984375\n",
      "  9315972.97959184  7378232.859375  ]\n"
     ]
    }
   ],
   "source": [
    "# find the sum,average, std deviation, and variance of each column excluding nan\n",
    "sum = np.nansum(data, axis=0)\n",
    "avg = np.nanmean(data, axis=0)\n",
    "std_deviation = np.nanstd(data, axis=0)\n",
    "variance = np.nanvar(data, axis=0)\n",
    "\n",
    "print(\"Sum of each column excluding nan value is:\")\n",
    "print(sum)\n",
    "\n",
    "print(\"Average of each column excluding nan value is:\")\n",
    "print(avg)\n",
    "\n",
    "print(\"Standard Deviation of each column excluding nan value is:\")\n",
    "print(std_deviation)\n",
    "\n",
    "print(\"Variances of each column excluding nan value is:\")\n",
    "print(variance)"
   ]
  },
  {
   "cell_type": "code",
   "execution_count": null,
   "metadata": {},
   "outputs": [
    {
     "ename": "NameError",
     "evalue": "name 'np' is not defined",
     "output_type": "error",
     "traceback": [
      "\u001b[1;31m---------------------------------------------------------------------------\u001b[0m",
      "\u001b[1;31mNameError\u001b[0m                                 Traceback (most recent call last)",
      "Cell \u001b[1;32mIn[6], line 2\u001b[0m\n\u001b[0;32m      1\u001b[0m \u001b[38;5;66;03m# fill the nan values of 2nd column with min value of the column\u001b[39;00m\n\u001b[1;32m----> 2\u001b[0m data1 \u001b[38;5;241m=\u001b[39m \u001b[43mnp\u001b[49m\u001b[38;5;241m.\u001b[39mwhere(np\u001b[38;5;241m.\u001b[39misnan(data[:, \u001b[38;5;241m1\u001b[39m]), np\u001b[38;5;241m.\u001b[39mnanmin(data[:, \u001b[38;5;241m1\u001b[39m]), data[:, \u001b[38;5;241m1\u001b[39m])\n\u001b[0;32m      3\u001b[0m \u001b[38;5;28mprint\u001b[39m(data1)\n",
      "\u001b[1;31mNameError\u001b[0m: name 'np' is not defined"
     ]
    }
   ],
   "source": [
    "# fill the nan values of 2nd column with min value of the column\n",
    "data[:, 1] = np.where(np.isnan(data[:, 1]), np.nanmin(data[:, 1]), data[:, 1])\n"
   ]
  },
  {
   "cell_type": "code",
   "execution_count": null,
   "metadata": {},
   "outputs": [
    {
     "name": "stdout",
     "output_type": "stream",
     "text": [
      "[[-0.08600857 -0.22961478  1.86674696 -1.15780971 -0.00974358 -1.19920612]\n",
      " [ 1.16215547  0.09157801  0.93669137  0.44977636         nan -0.2783947 ]\n",
      " [        nan  1.45947119 -0.00307397         nan  1.05228883 -1.28355245]\n",
      " [-0.87587463 -0.96815546 -0.89012923 -0.24177452 -0.25820672  0.61037249]\n",
      " [ 1.11698442  1.58922265         nan  0.96696036 -1.10422698  1.18459049]\n",
      " [ 0.3597419  -0.88416456 -1.06733222 -0.86789432 -1.52707321  0.72050153]\n",
      " [ 1.15337221 -0.76368106 -0.92168593  1.03865612         nan         nan]\n",
      " [-1.44710024 -0.96815546  0.83716641  1.42393384  1.08605097 -0.80288889]\n",
      " [-1.04652083 -0.96815546 -0.42163367 -1.27509841  1.0555667   1.38532738]]\n"
     ]
    }
   ],
   "source": [
    "# Perform zero mean numpy standardization across columns\n",
    "mean = np.nanmean(data, axis=0)\n",
    "std = np.nanstd(data, axis=0)\n",
    "data = (data - mean) / std\n",
    "\n",
    "# Z-mean Std = data - mean / std\n",
    "zmean_std = (data - np.nanmean(data)) / np.nanstd(data)\n",
    "print(zmean_std)"
   ]
  },
  {
   "cell_type": "code",
   "execution_count": 56,
   "metadata": {},
   "outputs": [
    {
     "name": "stdout",
     "output_type": "stream",
     "text": [
      "[-0.12804128 -0.2715791   1.82378431 -1.19933201 -0.05181261 -1.24070871\n",
      "  1.11952836  0.04946073  0.89417163  0.4074885          nan -0.32033579\n",
      "         nan  1.4167025  -0.04514618         nan  1.00971404 -1.32501487\n",
      " -0.91753119         nan -0.931779   -0.28373305 -0.30015742  0.56800814\n",
      "  1.07437882  1.54639217         nan  0.92442621 -1.14577479  1.14195269\n",
      "  0.31749691 -0.92581717 -1.1088976  -0.90955468 -1.56841966  0.67808475\n",
      "  1.11074928 -0.80539105 -0.96332067  0.99608783         nan         nan\n",
      " -1.48848477 -1.00976807  0.79469406  1.38118207  1.0434601  -0.84458021\n",
      " -1.08809613         nan -0.46350655 -1.31656485  1.01299035  1.34259399]\n"
     ]
    }
   ],
   "source": [
    "# flatten the whole array into a 1d array\n",
    "flat_data = data.flatten()\n",
    "print(flat_data)"
   ]
  },
  {
   "cell_type": "code",
   "execution_count": 63,
   "metadata": {},
   "outputs": [
    {
     "name": "stdout",
     "output_type": "stream",
     "text": [
      "[[-0.12804128 -0.2715791   1.82378431 -1.19933201 -0.05181261 -1.24070871]\n",
      " [ 1.11952836  0.04946073  0.89417163  0.4074885          nan -0.32033579]\n",
      " [        nan  1.4167025  -0.04514618         nan  1.00971404 -1.32501487]\n",
      " [-0.91753119 -1.00976807 -0.931779   -0.28373305 -0.30015742  0.56800814]\n",
      " [ 1.07437882  1.54639217         nan  0.92442621 -1.14577479  1.14195269]\n",
      " [ 0.31749691 -0.92581717 -1.1088976  -0.90955468 -1.56841966  0.67808475]\n",
      " [-1.48848477 -1.00976807  0.79469406  1.38118207  1.0434601  -0.84458021]\n",
      " [-1.08809613 -1.00976807 -0.46350655 -1.31656485  1.01299035  1.34259399]]\n"
     ]
    }
   ],
   "source": [
    "# Remove the rows where there is a nan value in the 6th column\n",
    "remove = data[~np.isnan(data[:, 5])]\n",
    "print(remove)"
   ]
  }
 ],
 "metadata": {
  "kernelspec": {
   "display_name": "Python 3",
   "language": "python",
   "name": "python3"
  },
  "language_info": {
   "codemirror_mode": {
    "name": "ipython",
    "version": 3
   },
   "file_extension": ".py",
   "mimetype": "text/x-python",
   "name": "python",
   "nbconvert_exporter": "python",
   "pygments_lexer": "ipython3",
   "version": "3.11.0"
  }
 },
 "nbformat": 4,
 "nbformat_minor": 2
}
