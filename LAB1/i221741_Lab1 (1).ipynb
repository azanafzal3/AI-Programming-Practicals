{
  "nbformat": 4,
  "nbformat_minor": 0,
  "metadata": {
    "colab": {
      "provenance": []
    },
    "kernelspec": {
      "name": "python3",
      "display_name": "Python 3"
    },
    "language_info": {
      "name": "python"
    }
  },
  "cells": [
    {
      "cell_type": "code",
      "execution_count": 5,
      "metadata": {
        "colab": {
          "base_uri": "https://localhost:8080/"
        },
        "id": "lOv-gXtkV8Ht",
        "outputId": "9f617b27-4d04-4fdd-db3e-ff8489b3ce54"
      },
      "outputs": [
        {
          "output_type": "stream",
          "name": "stdout",
          "text": [
            "olleh\n"
          ]
        }
      ],
      "source": [
        "def reverse_string(s):\n",
        "    reversed_string = \"\"\n",
        "    for char in s:\n",
        "        reversed_string = char + reversed_string\n",
        "    return reversed_string\n",
        "\n",
        "print(reverse_string(\"hello\"))"
      ]
    },
    {
      "cell_type": "code",
      "source": [
        "def two_sum(nums, target):\n",
        "    for i in range(len(nums)):\n",
        "        for j in range(i + 1, len(nums)):\n",
        "            if nums[i] + nums[j] == target:\n",
        "                return [i, j]\n",
        "\n",
        "print(two_sum([2, 7, 11, 15], 9))\n"
      ],
      "metadata": {
        "colab": {
          "base_uri": "https://localhost:8080/"
        },
        "id": "eoKrlLduXvBM",
        "outputId": "35f47809-49c7-4f1b-f30b-583e18797d63"
      },
      "execution_count": 7,
      "outputs": [
        {
          "output_type": "stream",
          "name": "stdout",
          "text": [
            "[0, 1]\n"
          ]
        }
      ]
    },
    {
      "cell_type": "code",
      "source": [
        "def fizz_buzz(n):\n",
        "    result = []\n",
        "    for i in range(1, n + 1):\n",
        "        if i % 3 == 0 and i % 5 == 0:\n",
        "            result.append(\"FizzBuzz\")\n",
        "        elif i % 3 == 0:\n",
        "            result.append(\"Fizz\")\n",
        "        elif i % 5 == 0:\n",
        "            result.append(\"Buzz\")\n",
        "        else:\n",
        "            result.append(i)\n",
        "    return result\n",
        "\n",
        "print(fizz_buzz(15))"
      ],
      "metadata": {
        "colab": {
          "base_uri": "https://localhost:8080/"
        },
        "id": "fSY3b892a9QA",
        "outputId": "9ebf5bfb-198b-457f-9a15-6ffdc19b5809"
      },
      "execution_count": 9,
      "outputs": [
        {
          "output_type": "stream",
          "name": "stdout",
          "text": [
            "[1, 2, 'Fizz', 4, 'Buzz', 'Fizz', 7, 8, 'Fizz', 'Buzz', 11, 'Fizz', 13, 14, 'FizzBuzz']\n"
          ]
        }
      ]
    },
    {
      "cell_type": "code",
      "source": [
        "def is_valid_parentheses(s):\n",
        "    stack = []\n",
        "    mapping = {')': '(', '}': '{', ']': '['}\n",
        "\n",
        "    for char in s:\n",
        "        if char in mapping:\n",
        "            top_element = stack.pop() if stack else None\n",
        "            if mapping[char] != top_element:\n",
        "                return False\n",
        "        else:\n",
        "            stack.append(char)\n",
        "\n",
        "    return not stack\n",
        "\n",
        "print(is_valid_parentheses(\"()[]{}\"))"
      ],
      "metadata": {
        "colab": {
          "base_uri": "https://localhost:8080/"
        },
        "id": "WzCPGm_6bZVl",
        "outputId": "57165d33-7e88-4b9d-9053-2f3cd078715e"
      },
      "execution_count": 20,
      "outputs": [
        {
          "output_type": "stream",
          "name": "stdout",
          "text": [
            "True\n"
          ]
        }
      ]
    },
    {
      "cell_type": "code",
      "source": [
        "def merge_sorted_arrays(nums1, nums2):\n",
        "    return sorted(nums1 + nums2)\n",
        "\n",
        "print(merge_sorted_arrays([1, 3, 5], [2, 4, 6]))\n"
      ],
      "metadata": {
        "colab": {
          "base_uri": "https://localhost:8080/"
        },
        "id": "YAgSFutqdTyj",
        "outputId": "257b6090-feb6-4649-bd8a-5fabe240b490"
      },
      "execution_count": 11,
      "outputs": [
        {
          "output_type": "stream",
          "name": "stdout",
          "text": [
            "[1, 2, 3, 4, 5, 6]\n"
          ]
        }
      ]
    },
    {
      "cell_type": "code",
      "source": [
        "def is_palindrome(s):\n",
        "    n = len(s)\n",
        "    for i in range(n // 2):\n",
        "        if s[i] != s[n - i - 1]:\n",
        "            return False\n",
        "    return True\n",
        "\n",
        "print(is_palindrome(\"racecar\"))"
      ],
      "metadata": {
        "colab": {
          "base_uri": "https://localhost:8080/"
        },
        "id": "lJ3J8pKCdbe_",
        "outputId": "5f67f6a4-9477-4949-de32-bb390d80833f"
      },
      "execution_count": 12,
      "outputs": [
        {
          "output_type": "stream",
          "name": "stdout",
          "text": [
            "True\n"
          ]
        }
      ]
    },
    {
      "cell_type": "code",
      "source": [
        "def max_subarray_sum(nums):\n",
        "    max_sum = 0\n",
        "    for i in range(len(nums)):\n",
        "        current_sum = 0\n",
        "        for j in range(i, len(nums)):\n",
        "            current_sum += nums[j]\n",
        "            max_sum = max(max_sum, current_sum)\n",
        "    return max_sum\n",
        "\n",
        "print(max_subarray_sum([-2, 1, -3, 4, -1, 2, 1, -5, 4]))"
      ],
      "metadata": {
        "colab": {
          "base_uri": "https://localhost:8080/"
        },
        "id": "lvvcpf0pebYy",
        "outputId": "cb8df9af-3240-484d-ad2b-8eaec7c73b81"
      },
      "execution_count": 21,
      "outputs": [
        {
          "output_type": "stream",
          "name": "stdout",
          "text": [
            "6\n"
          ]
        }
      ]
    },
    {
      "cell_type": "code",
      "source": [
        "def majority_element(nums):\n",
        "    count = {}\n",
        "    for num in nums:\n",
        "        count[num] = count.get(num, 0) + 1\n",
        "        if count[num] > len(nums) // 2:\n",
        "            return num\n",
        "\n",
        "print(majority_element([3, 2, 3]))\n",
        "print(majority_element([2, 2, 1, 1, 1, 2, 2]))"
      ],
      "metadata": {
        "colab": {
          "base_uri": "https://localhost:8080/"
        },
        "id": "o9JGVssBe8kO",
        "outputId": "cc7013a1-effe-4c30-cb1a-33701cce0438"
      },
      "execution_count": 17,
      "outputs": [
        {
          "output_type": "stream",
          "name": "stdout",
          "text": [
            "3\n",
            "2\n"
          ]
        }
      ]
    },
    {
      "cell_type": "code",
      "source": [
        "def are_anagrams(s1, s2):\n",
        "    return sorted(s1) == sorted(s2)\n",
        "\n",
        "print(are_anagrams(\"listen\", \"silent\"))"
      ],
      "metadata": {
        "colab": {
          "base_uri": "https://localhost:8080/"
        },
        "id": "YKXh2zzlfgV_",
        "outputId": "55aad1fe-feff-4e4b-d8c3-4ce7246de77b"
      },
      "execution_count": 18,
      "outputs": [
        {
          "output_type": "stream",
          "name": "stdout",
          "text": [
            "True\n"
          ]
        }
      ]
    },
    {
      "cell_type": "code",
      "source": [
        "def find_duplicates(nums):\n",
        "    nums.sort()\n",
        "    duplicates = []\n",
        "\n",
        "    for i in range(1, len(nums)):\n",
        "        if nums[i] == nums[i - 1] and nums[i] not in duplicates:\n",
        "            duplicates.append(nums[i])\n",
        "    return duplicates\n",
        "\n",
        "print(find_duplicates([1, 2, 3, 1]))"
      ],
      "metadata": {
        "colab": {
          "base_uri": "https://localhost:8080/"
        },
        "id": "ems3vzKofvsp",
        "outputId": "a916258f-523c-4ccd-eca9-7a692bd1d8b8"
      },
      "execution_count": 19,
      "outputs": [
        {
          "output_type": "stream",
          "name": "stdout",
          "text": [
            "[1]\n"
          ]
        }
      ]
    }
  ]
}