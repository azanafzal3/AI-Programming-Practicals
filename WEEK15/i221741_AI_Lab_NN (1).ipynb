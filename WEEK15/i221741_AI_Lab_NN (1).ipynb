{
 "cells": [
  {
   "cell_type": "markdown",
   "metadata": {
    "id": "ifIyngXF10Xo"
   },
   "source": [
    "Load and Preprocess the Data\n"
   ]
  },
  {
   "cell_type": "code",
   "execution_count": null,
   "metadata": {
    "id": "q73yUouLz_we"
   },
   "outputs": [],
   "source": [
    "import numpy as np\n",
    "import pandas as pd\n",
    "from sklearn.model_selection import train_test_split\n",
    "from sklearn.preprocessing import OneHotEncoder, StandardScaler\n",
    "\n",
    "# Load the dataset\n",
    "url = \"https://gist.githubusercontent.com/curran/a08a1080b88344b0c8a7/raw/0e7a9b0a5d22642a06d3d5b9bcbad9890c8ee534/iris.csv\"\n",
    "data = pd.read_csv(url)\n",
    "\n",
    "# Features and labels\n",
    "X = data.iloc[:, :-1].values\n",
    "y = data.iloc[:, -1].values\n",
    "\n",
    "# Encode labels into one-hot vectors\n",
    "encoder = OneHotEncoder(sparse_output=False)\n",
    "y_one_hot = encoder.fit_transform(y.reshape(-1, 1))\n",
    "\n",
    "# Normalize the features\n",
    "scaler = StandardScaler()\n",
    "X_scaled = scaler.fit_transform(X)\n",
    "\n",
    "# Train-test split\n",
    "X_train, X_test, y_train, y_test = train_test_split(X_scaled, y_one_hot, test_size=0.2, random_state=42)\n"
   ]
  },
  {
   "cell_type": "code",
   "execution_count": 13,
   "metadata": {
    "colab": {
     "base_uri": "https://localhost:8080/",
     "height": 206
    },
    "id": "UAFYHvgh1V-E",
    "outputId": "e78bf6dc-f77b-4c91-cce4-b528ca41d8c2"
   },
   "outputs": [
    {
     "data": {
      "text/html": [
       "<div>\n",
       "<style scoped>\n",
       "    .dataframe tbody tr th:only-of-type {\n",
       "        vertical-align: middle;\n",
       "    }\n",
       "\n",
       "    .dataframe tbody tr th {\n",
       "        vertical-align: top;\n",
       "    }\n",
       "\n",
       "    .dataframe thead th {\n",
       "        text-align: right;\n",
       "    }\n",
       "</style>\n",
       "<table border=\"1\" class=\"dataframe\">\n",
       "  <thead>\n",
       "    <tr style=\"text-align: right;\">\n",
       "      <th></th>\n",
       "      <th>sepal_length</th>\n",
       "      <th>sepal_width</th>\n",
       "      <th>petal_length</th>\n",
       "      <th>petal_width</th>\n",
       "      <th>species</th>\n",
       "    </tr>\n",
       "  </thead>\n",
       "  <tbody>\n",
       "    <tr>\n",
       "      <th>0</th>\n",
       "      <td>5.1</td>\n",
       "      <td>3.5</td>\n",
       "      <td>1.4</td>\n",
       "      <td>0.2</td>\n",
       "      <td>setosa</td>\n",
       "    </tr>\n",
       "    <tr>\n",
       "      <th>1</th>\n",
       "      <td>4.9</td>\n",
       "      <td>3.0</td>\n",
       "      <td>1.4</td>\n",
       "      <td>0.2</td>\n",
       "      <td>setosa</td>\n",
       "    </tr>\n",
       "    <tr>\n",
       "      <th>2</th>\n",
       "      <td>4.7</td>\n",
       "      <td>3.2</td>\n",
       "      <td>1.3</td>\n",
       "      <td>0.2</td>\n",
       "      <td>setosa</td>\n",
       "    </tr>\n",
       "    <tr>\n",
       "      <th>3</th>\n",
       "      <td>4.6</td>\n",
       "      <td>3.1</td>\n",
       "      <td>1.5</td>\n",
       "      <td>0.2</td>\n",
       "      <td>setosa</td>\n",
       "    </tr>\n",
       "    <tr>\n",
       "      <th>4</th>\n",
       "      <td>5.0</td>\n",
       "      <td>3.6</td>\n",
       "      <td>1.4</td>\n",
       "      <td>0.2</td>\n",
       "      <td>setosa</td>\n",
       "    </tr>\n",
       "  </tbody>\n",
       "</table>\n",
       "</div>"
      ],
      "text/plain": [
       "   sepal_length  sepal_width  petal_length  petal_width species\n",
       "0           5.1          3.5           1.4          0.2  setosa\n",
       "1           4.9          3.0           1.4          0.2  setosa\n",
       "2           4.7          3.2           1.3          0.2  setosa\n",
       "3           4.6          3.1           1.5          0.2  setosa\n",
       "4           5.0          3.6           1.4          0.2  setosa"
      ]
     },
     "execution_count": 13,
     "metadata": {},
     "output_type": "execute_result"
    }
   ],
   "source": [
    "data.head()"
   ]
  },
  {
   "cell_type": "markdown",
   "metadata": {
    "id": "kALOstL219PH"
   },
   "source": [
    "#Define the Neural Network\n"
   ]
  },
  {
   "cell_type": "code",
   "execution_count": 14,
   "metadata": {
    "id": "a8kyQT9h1Nl5"
   },
   "outputs": [],
   "source": [
    "def initialize_parameters(input_size, hidden_size, output_size):\n",
    "    np.random.seed(42)\n",
    "    W1 = np.random.randn(hidden_size, input_size) * 0.01\n",
    "    b1 = np.zeros((hidden_size, 1))\n",
    "    W2 = np.random.randn(output_size, hidden_size) * 0.01\n",
    "    b2 = np.zeros((output_size, 1))\n",
    "    return W1, b1, W2, b2\n"
   ]
  },
  {
   "cell_type": "markdown",
   "metadata": {
    "id": "pzRxnYmA1-v4"
   },
   "source": [
    "#Forward Propagation\n"
   ]
  },
  {
   "cell_type": "code",
   "execution_count": 15,
   "metadata": {
    "id": "vg5fxQ_61Z9x"
   },
   "outputs": [],
   "source": [
    "def sigmoid(z):\n",
    "    return 1 / (1 + np.exp(-z))\n",
    "\n",
    "def softmax(z):\n",
    "    exp_z = np.exp(z - np.max(z, axis=0, keepdims=True))  # Stability improvement\n",
    "    return exp_z / np.sum(exp_z, axis=0, keepdims=True)\n",
    "\n",
    "def forward_propagation(X, W1, b1, W2, b2):\n",
    "    Z1 = np.dot(W1, X.T) + b1\n",
    "    A1 = sigmoid(Z1)\n",
    "    Z2 = np.dot(W2, A1) + b2\n",
    "    A2 = softmax(Z2)\n",
    "    return Z1, A1, Z2, A2\n"
   ]
  },
  {
   "cell_type": "markdown",
   "metadata": {
    "id": "6lDJA2Xs2DZh"
   },
   "source": [
    "#Loss Function\n"
   ]
  },
  {
   "cell_type": "code",
   "execution_count": 16,
   "metadata": {
    "id": "pY5FA2eI1dLJ"
   },
   "outputs": [],
   "source": [
    "def compute_loss(Y, A2):\n",
    "    m = Y.shape[0]\n",
    "    return -np.sum(Y.T * np.log(A2)) / m\n"
   ]
  },
  {
   "cell_type": "markdown",
   "metadata": {
    "id": "wIPIBMLx2Gfh"
   },
   "source": [
    "#Backward Propagation\n"
   ]
  },
  {
   "cell_type": "code",
   "execution_count": 17,
   "metadata": {
    "id": "hv-KCp451fEL"
   },
   "outputs": [],
   "source": [
    "def backward_propagation(X, Y, Z1, A1, A2, W1, W2):\n",
    "    m = X.shape[0]\n",
    "    dZ2 = A2 - Y.T\n",
    "    dW2 = np.dot(dZ2, A1.T) / m\n",
    "    db2 = np.sum(dZ2, axis=1, keepdims=True) / m\n",
    "\n",
    "    dZ1 = np.dot(W2.T, dZ2) * (A1 * (1 - A1))\n",
    "    dW1 = np.dot(dZ1, X) / m\n",
    "    db1 = np.sum(dZ1, axis=1, keepdims=True) / m\n",
    "\n",
    "    return dW1, db1, dW2, db2\n"
   ]
  },
  {
   "cell_type": "markdown",
   "metadata": {
    "id": "z-oL7sSq2IvY"
   },
   "source": [
    "#Update Parameters\n"
   ]
  },
  {
   "cell_type": "code",
   "execution_count": 18,
   "metadata": {
    "id": "V_mJKLMj1hF1"
   },
   "outputs": [],
   "source": [
    "def update_parameters(W1, b1, W2, b2, dW1, db1, dW2, db2, learning_rate):\n",
    "    W1 -= learning_rate * dW1\n",
    "    b1 -= learning_rate * db1\n",
    "    W2 -= learning_rate * dW2\n",
    "    b2 -= learning_rate * db2\n",
    "    return W1, b1, W2, b2\n"
   ]
  },
  {
   "cell_type": "markdown",
   "metadata": {
    "id": "u82YkVKF2L13"
   },
   "source": [
    "#Training Loop\n"
   ]
  },
  {
   "cell_type": "code",
   "execution_count": 19,
   "metadata": {
    "id": "U8XfFLFS1ixJ"
   },
   "outputs": [],
   "source": [
    "def train_nn(X_train, y_train, input_size, hidden_size, output_size, learning_rate, epochs):\n",
    "    W1, b1, W2, b2 = initialize_parameters(input_size, hidden_size, output_size)\n",
    "\n",
    "    for epoch in range(epochs):\n",
    "        Z1, A1, Z2, A2 = forward_propagation(X_train, W1, b1, W2, b2)\n",
    "        loss = compute_loss(y_train, A2)\n",
    "        dW1, db1, dW2, db2 = backward_propagation(X_train, y_train, Z1, A1, A2, W1, W2)\n",
    "        W1, b1, W2, b2 = update_parameters(W1, b1, W2, b2, dW1, db1, dW2, db2, learning_rate)\n",
    "\n",
    "        if epoch % 100 == 0:\n",
    "            print(f\"Epoch {epoch}: Loss = {loss:.4f}\")\n",
    "\n",
    "    return W1, b1, W2, b2\n"
   ]
  },
  {
   "cell_type": "markdown",
   "metadata": {
    "id": "gNKidwuN2NLd"
   },
   "source": [
    "#Prediction\n"
   ]
  },
  {
   "cell_type": "code",
   "execution_count": 20,
   "metadata": {
    "id": "SOczR7Zg1kWy"
   },
   "outputs": [],
   "source": [
    "def predict(X, W1, b1, W2, b2):\n",
    "    _, _, _, A2 = forward_propagation(X, W1, b1, W2, b2)\n",
    "    return np.argmax(A2, axis=0)\n"
   ]
  },
  {
   "cell_type": "markdown",
   "metadata": {
    "id": "s4dbbkkF2Qp7"
   },
   "source": [
    "#Train the Model\n"
   ]
  },
  {
   "cell_type": "code",
   "execution_count": 21,
   "metadata": {
    "colab": {
     "base_uri": "https://localhost:8080/"
    },
    "id": "BRfsLVq_1lxR",
    "outputId": "93377c84-1a4f-4874-eac1-c26b7f9aef8a"
   },
   "outputs": [
    {
     "name": "stdout",
     "output_type": "stream",
     "text": [
      "Epoch 0: Loss = 1.0988\n",
      "Epoch 100: Loss = 1.0937\n",
      "Epoch 200: Loss = 0.9011\n",
      "Epoch 300: Loss = 0.5909\n",
      "Epoch 400: Loss = 0.4785\n",
      "Epoch 500: Loss = 0.4168\n",
      "Epoch 600: Loss = 0.3708\n",
      "Epoch 700: Loss = 0.3324\n",
      "Epoch 800: Loss = 0.2990\n",
      "Epoch 900: Loss = 0.2694\n"
     ]
    }
   ],
   "source": [
    "# Define network dimensions\n",
    "input_size = X_train.shape[1]\n",
    "hidden_size = 5\n",
    "output_size = y_train.shape[1]\n",
    "\n",
    "# Train the neural network\n",
    "W1, b1, W2, b2 = train_nn(X_train, y_train, input_size, hidden_size, output_size, learning_rate=0.1, epochs=1000)\n"
   ]
  },
  {
   "cell_type": "markdown",
   "metadata": {
    "id": "v_6q1wgq2Uyf"
   },
   "source": [
    "#Evaluate the Model\n"
   ]
  },
  {
   "cell_type": "code",
   "execution_count": 22,
   "metadata": {
    "colab": {
     "base_uri": "https://localhost:8080/"
    },
    "id": "Zx9nYNP21rsw",
    "outputId": "35d8b2b1-de91-47cd-e161-26c30af127b6"
   },
   "outputs": [
    {
     "name": "stdout",
     "output_type": "stream",
     "text": [
      "Test Accuracy: 96.67%\n"
     ]
    }
   ],
   "source": [
    "# Predict on test set\n",
    "y_pred = predict(X_test, W1, b1, W2, b2)\n",
    "y_true = np.argmax(y_test, axis=1)\n",
    "\n",
    "# Calculate accuracy\n",
    "accuracy = np.mean(y_pred == y_true)\n",
    "print(f\"Test Accuracy: {accuracy * 100:.2f}%\")\n"
   ]
  },
  {
   "cell_type": "markdown",
   "metadata": {
    "id": "DzfT5I4WFoTD"
   },
   "source": [
    "#Lab Task\n",
    "\n",
    "You are provided with a neural network (NN) implementation designed for classification tasks (e.g., predicting Iris species). Your task is to convert this NN into a regressor and train it on the [Boston Housing](https://github.com/selva86/datasets/blob/master/BostonHousing.csv) dataset to predict the median value of houses in a given area.\n",
    "\n",
    "Requirements:\n",
    "\n",
    "- Update the output layer to output a single continuous value.\n",
    "  Change the activation function of the output layer to linear.\n",
    "  Replace the cross-entropy loss function with mean squared error (MSE).\n",
    "  Dataset Preparation:\n",
    "\n",
    "- Use the Boston Housing dataset for training and testing.\n",
    "  Split the dataset into 80% training and 20% testing.\n",
    "  Scale the input features using standardization.\n",
    "  Training:\n",
    "\n",
    "- Train the NN on the Boston Housing dataset for 1000 epochs with a learning rate of 0.01.\n",
    "- Print the MSE loss every 100 epochs.\n",
    "  Evaluation:\n",
    "\n",
    "Predict the median house prices on the test set.\n",
    "Calculate and report the Mean Absolute Error (MAE) and R² score on the test set.\n",
    "Visualizations:\n",
    "\n",
    "Plot a graph showing the actual vs. predicted house prices for the test set.\n"
   ]
  },
  {
   "cell_type": "code",
   "execution_count": 1,
   "metadata": {
    "id": "g9iAC2s_IFiB"
   },
   "outputs": [
    {
     "name": "stdout",
     "output_type": "stream",
     "text": [
      "Epoch 100/1000, MSE Loss: 18.9254\n",
      "Epoch 200/1000, MSE Loss: 13.8633\n",
      "Epoch 300/1000, MSE Loss: 12.0686\n",
      "Epoch 400/1000, MSE Loss: 10.9914\n",
      "Epoch 500/1000, MSE Loss: 10.4205\n",
      "Epoch 600/1000, MSE Loss: 10.0226\n",
      "Epoch 700/1000, MSE Loss: 9.6706\n",
      "Epoch 800/1000, MSE Loss: 9.3749\n",
      "Epoch 900/1000, MSE Loss: 9.0153\n",
      "Epoch 1000/1000, MSE Loss: 8.5254\n",
      "\n",
      "Mean Absolute Error (MAE): 2.57\n",
      "R² Score: 0.83\n"
     ]
    },
    {
     "data": {
      "image/png": "[encoded data removed]",
      "text/plain": [
       "<Figure size 800x600 with 1 Axes>"
      ]
     },
     "metadata": {},
     "output_type": "display_data"
    }
   ],
   "source": [
    "# Import libraries\n",
    "import numpy as np\n",
    "import pandas as pd\n",
    "import matplotlib.pyplot as plt\n",
    "from sklearn.model_selection import train_test_split\n",
    "from sklearn.preprocessing import StandardScaler\n",
    "from sklearn.metrics import mean_absolute_error, r2_score\n",
    "\n",
    "# Load Boston Housing dataset\n",
    "url = \"https://raw.githubusercontent.com/selva86/datasets/master/BostonHousing.csv\"\n",
    "data = pd.read_csv(url)\n",
    "\n",
    "# Features and target\n",
    "X = data.iloc[:, :-1].values\n",
    "y = data['medv'].values.reshape(-1, 1)\n",
    "\n",
    "# Standardize input features\n",
    "scaler = StandardScaler()\n",
    "X_scaled = scaler.fit_transform(X)\n",
    "\n",
    "# Train-test split\n",
    "X_train, X_test, y_train, y_test = train_test_split(X_scaled, y, test_size=0.2, random_state=42)\n",
    "\n",
    "# Neural Network architecture\n",
    "def initialize_parameters(input_size, hidden_size, output_size):\n",
    "    np.random.seed(42)\n",
    "    W1 = np.random.randn(hidden_size, input_size) * 0.01\n",
    "    b1 = np.zeros((hidden_size, 1))\n",
    "    W2 = np.random.randn(output_size, hidden_size) * 0.01\n",
    "    b2 = np.zeros((output_size, 1))\n",
    "    return W1, b1, W2, b2\n",
    "\n",
    "def relu(Z):\n",
    "    return np.maximum(0, Z)\n",
    "\n",
    "def relu_derivative(Z):\n",
    "    return Z > 0\n",
    "\n",
    "def forward_propagation(X, W1, b1, W2, b2):\n",
    "    Z1 = np.dot(W1, X) + b1\n",
    "    A1 = relu(Z1)\n",
    "    Z2 = np.dot(W2, A1) + b2  # Linear activation\n",
    "    return Z1, A1, Z2\n",
    "\n",
    "def compute_mse_loss(y_pred, y_true):\n",
    "    m = y_true.shape[1]\n",
    "    return np.sum((y_pred - y_true) ** 2) / m\n",
    "\n",
    "def backward_propagation(X, y, Z1, A1, Z2, W2):\n",
    "    m = X.shape[1]\n",
    "    dZ2 = (Z2 - y)\n",
    "    dW2 = (1/m) * np.dot(dZ2, A1.T)\n",
    "    db2 = (1/m) * np.sum(dZ2, axis=1, keepdims=True)\n",
    "\n",
    "    dA1 = np.dot(W2.T, dZ2)\n",
    "    dZ1 = dA1 * relu_derivative(Z1)\n",
    "    dW1 = (1/m) * np.dot(dZ1, X.T)\n",
    "    db1 = (1/m) * np.sum(dZ1, axis=1, keepdims=True)\n",
    "\n",
    "    return dW1, db1, dW2, db2\n",
    "\n",
    "def train(X, y, hidden_size=10, epochs=1000, lr=0.01):\n",
    "    input_size = X.shape[0]\n",
    "    output_size = 1\n",
    "    W1, b1, W2, b2 = initialize_parameters(input_size, hidden_size, output_size)\n",
    "\n",
    "    for epoch in range(epochs):\n",
    "        Z1, A1, Z2 = forward_propagation(X, W1, b1, W2, b2)\n",
    "        loss = compute_mse_loss(Z2, y)\n",
    "        dW1, db1, dW2, db2 = backward_propagation(X, y, Z1, A1, Z2, W2)\n",
    "\n",
    "        W1 -= lr * dW1\n",
    "        b1 -= lr * db1\n",
    "        W2 -= lr * dW2\n",
    "        b2 -= lr * db2\n",
    "\n",
    "        if (epoch + 1) % 100 == 0:\n",
    "            print(f\"Epoch {epoch+1}/{epochs}, MSE Loss: {loss:.4f}\")\n",
    "\n",
    "    return W1, b1, W2, b2\n",
    "\n",
    "# Prepare input shape (features as columns, samples as columns)\n",
    "X_train_T = X_train.T\n",
    "y_train_T = y_train.T\n",
    "\n",
    "# Train model\n",
    "W1, b1, W2, b2 = train(X_train_T, y_train_T, hidden_size=10, epochs=1000, lr=0.01)\n",
    "\n",
    "# Predict\n",
    "def predict(X, W1, b1, W2, b2):\n",
    "    _, _, Z2 = forward_propagation(X, W1, b1, W2, b2)\n",
    "    return Z2\n",
    "\n",
    "y_pred_test = predict(X_test.T, W1, b1, W2, b2).T\n",
    "\n",
    "# Evaluation\n",
    "mae = mean_absolute_error(y_test, y_pred_test)\n",
    "r2 = r2_score(y_test, y_pred_test)\n",
    "\n",
    "print(f\"\\nMean Absolute Error (MAE): {mae:.2f}\")\n",
    "print(f\"R² Score: {r2:.2f}\")\n",
    "\n",
    "# Visualization\n",
    "plt.figure(figsize=(8, 6))\n",
    "plt.scatter(y_test, y_pred_test, alpha=0.7)\n",
    "plt.plot([y_test.min(), y_test.max()], [y_test.min(), y_test.max()], 'r--')\n",
    "plt.xlabel(\"Actual Median Value ($1000s)\")\n",
    "plt.ylabel(\"Predicted Median Value ($1000s)\")\n",
    "plt.title(\"Actual vs. Predicted Median House Prices\")\n",
    "plt.grid(True)\n",
    "plt.show()\n"
   ]
  }
 ],
 "metadata": {
  "colab": {
   "provenance": []
  },
  "kernelspec": {
   "display_name": "Python 3",
   "name": "python3"
  },
  "language_info": {
   "codemirror_mode": {
    "name": "ipython",
    "version": 3
   },
   "file_extension": ".py",
   "mimetype": "text/x-python",
   "name": "python",
   "nbconvert_exporter": "python",
   "pygments_lexer": "ipython3",
   "version": "3.13.1"
  }
 },
 "nbformat": 4,
 "nbformat_minor": 0
}
