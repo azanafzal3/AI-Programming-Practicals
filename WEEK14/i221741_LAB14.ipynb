{
 "cells": [
  {
   "cell_type": "markdown",
   "id": "a3d862dc",
   "metadata": {},
   "source": [
    "# Decision Tree Implementation using `loan.csv`"
   ]
  },
  {
   "cell_type": "code",
   "execution_count": 1,
   "id": "b9054911",
   "metadata": {},
   "outputs": [],
   "source": [
    "import pandas as pd\n",
    "import numpy as np\n"
   ]
  },
  {
   "cell_type": "code",
   "execution_count": 2,
   "id": "55026a43",
   "metadata": {},
   "outputs": [
    {
     "data": {
      "text/html": [
       "<div>\n",
       "<style scoped>\n",
       "    .dataframe tbody tr th:only-of-type {\n",
       "        vertical-align: middle;\n",
       "    }\n",
       "\n",
       "    .dataframe tbody tr th {\n",
       "        vertical-align: top;\n",
       "    }\n",
       "\n",
       "    .dataframe thead th {\n",
       "        text-align: right;\n",
       "    }\n",
       "</style>\n",
       "<table border=\"1\" class=\"dataframe\">\n",
       "  <thead>\n",
       "    <tr style=\"text-align: right;\">\n",
       "      <th></th>\n",
       "      <th>Income</th>\n",
       "      <th>Loan Amount</th>\n",
       "      <th>Default</th>\n",
       "    </tr>\n",
       "  </thead>\n",
       "  <tbody>\n",
       "    <tr>\n",
       "      <th>0</th>\n",
       "      <td>15</td>\n",
       "      <td>8</td>\n",
       "      <td>No</td>\n",
       "    </tr>\n",
       "    <tr>\n",
       "      <th>1</th>\n",
       "      <td>30</td>\n",
       "      <td>8</td>\n",
       "      <td>No</td>\n",
       "    </tr>\n",
       "    <tr>\n",
       "      <th>2</th>\n",
       "      <td>5</td>\n",
       "      <td>9</td>\n",
       "      <td>Yes</td>\n",
       "    </tr>\n",
       "    <tr>\n",
       "      <th>3</th>\n",
       "      <td>22</td>\n",
       "      <td>10</td>\n",
       "      <td>No</td>\n",
       "    </tr>\n",
       "    <tr>\n",
       "      <th>4</th>\n",
       "      <td>33</td>\n",
       "      <td>12</td>\n",
       "      <td>No</td>\n",
       "    </tr>\n",
       "  </tbody>\n",
       "</table>\n",
       "</div>"
      ],
      "text/plain": [
       "   Income  Loan Amount Default\n",
       "0      15            8      No\n",
       "1      30            8      No\n",
       "2       5            9     Yes\n",
       "3      22           10      No\n",
       "4      33           12      No"
      ]
     },
     "execution_count": 2,
     "metadata": {},
     "output_type": "execute_result"
    }
   ],
   "source": [
    "# Load the dataset\n",
    "df = pd.read_csv(\"loan.csv\")\n",
    "\n",
    "# Display the first few rows\n",
    "df.head()\n"
   ]
  },
  {
   "cell_type": "code",
   "execution_count": 3,
   "id": "02a2929f",
   "metadata": {},
   "outputs": [
    {
     "name": "stdout",
     "output_type": "stream",
     "text": [
      "Missing values:\n",
      " Income         0\n",
      "Loan Amount    0\n",
      "Default        0\n",
      "dtype: int64\n"
     ]
    }
   ],
   "source": [
    "# Check for missing values\n",
    "print(\"Missing values:\\n\", df.isnull().sum())\n",
    "\n",
    "# Drop rows with missing values for simplicity\n",
    "df = df.dropna()\n"
   ]
  },
  {
   "cell_type": "code",
   "execution_count": 4,
   "id": "49788657",
   "metadata": {},
   "outputs": [
    {
     "data": {
      "text/html": [
       "<div>\n",
       "<style scoped>\n",
       "    .dataframe tbody tr th:only-of-type {\n",
       "        vertical-align: middle;\n",
       "    }\n",
       "\n",
       "    .dataframe tbody tr th {\n",
       "        vertical-align: top;\n",
       "    }\n",
       "\n",
       "    .dataframe thead th {\n",
       "        text-align: right;\n",
       "    }\n",
       "</style>\n",
       "<table border=\"1\" class=\"dataframe\">\n",
       "  <thead>\n",
       "    <tr style=\"text-align: right;\">\n",
       "      <th></th>\n",
       "      <th>Income</th>\n",
       "      <th>Loan Amount</th>\n",
       "      <th>Default</th>\n",
       "    </tr>\n",
       "  </thead>\n",
       "  <tbody>\n",
       "    <tr>\n",
       "      <th>0</th>\n",
       "      <td>15</td>\n",
       "      <td>8</td>\n",
       "      <td>0</td>\n",
       "    </tr>\n",
       "    <tr>\n",
       "      <th>1</th>\n",
       "      <td>30</td>\n",
       "      <td>8</td>\n",
       "      <td>0</td>\n",
       "    </tr>\n",
       "    <tr>\n",
       "      <th>2</th>\n",
       "      <td>5</td>\n",
       "      <td>9</td>\n",
       "      <td>1</td>\n",
       "    </tr>\n",
       "    <tr>\n",
       "      <th>3</th>\n",
       "      <td>22</td>\n",
       "      <td>10</td>\n",
       "      <td>0</td>\n",
       "    </tr>\n",
       "    <tr>\n",
       "      <th>4</th>\n",
       "      <td>33</td>\n",
       "      <td>12</td>\n",
       "      <td>0</td>\n",
       "    </tr>\n",
       "  </tbody>\n",
       "</table>\n",
       "</div>"
      ],
      "text/plain": [
       "   Income  Loan Amount  Default\n",
       "0      15            8        0\n",
       "1      30            8        0\n",
       "2       5            9        1\n",
       "3      22           10        0\n",
       "4      33           12        0"
      ]
     },
     "execution_count": 4,
     "metadata": {},
     "output_type": "execute_result"
    }
   ],
   "source": [
    "# Encode categorical variables\n",
    "for col in df.select_dtypes(include='object').columns:\n",
    "    df[col] = pd.factorize(df[col])[0]\n",
    "\n",
    "df.head()\n"
   ]
  },
  {
   "cell_type": "code",
   "execution_count": 8,
   "id": "05dbbd4c",
   "metadata": {},
   "outputs": [],
   "source": [
    "# Assume 'Default' is the target\n",
    "X = df.drop('Default', axis=1)\n",
    "y = df['Default']\n"
   ]
  },
  {
   "cell_type": "code",
   "execution_count": 9,
   "id": "a0429db4",
   "metadata": {},
   "outputs": [],
   "source": [
    "from sklearn.model_selection import train_test_split\n",
    "\n",
    "# Redefine X and y if necessary\n",
    "X = df.drop('Default', axis=1)\n",
    "y = df['Default']\n",
    "\n",
    "X_train, X_test, y_train, y_test = train_test_split(X, y, test_size=0.2, random_state=42)\n"
   ]
  },
  {
   "cell_type": "code",
   "execution_count": 11,
   "id": "bef89296",
   "metadata": {},
   "outputs": [],
   "source": [
    "class Node:\n",
    "    def __init__(self, feature=None, threshold=None, left=None, right=None, value=None):\n",
    "        self.feature = feature\n",
    "        self.threshold = threshold\n",
    "        self.left = left\n",
    "        self.right = right\n",
    "        self.value = value\n",
    "\n",
    "def gini_index(y):\n",
    "    classes = np.unique(y)\n",
    "    gini = 1.0\n",
    "    for cls in classes:\n",
    "        p = np.sum(y == cls) / len(y)\n",
    "        gini -= p ** 2\n",
    "    return gini\n",
    "\n",
    "def best_split(X, y):\n",
    "    best_feature, best_threshold = None, None\n",
    "    best_gain = 0\n",
    "    parent_gini = gini_index(y)\n",
    "\n",
    "    for feature in X.columns:\n",
    "        thresholds = np.unique(X[feature])\n",
    "        for threshold in thresholds:\n",
    "            left_idx = X[feature] <= threshold\n",
    "            right_idx = X[feature] > threshold\n",
    "\n",
    "            if len(y[left_idx]) == 0 or len(y[right_idx]) == 0:\n",
    "                continue\n",
    "\n",
    "            gini_left = gini_index(y[left_idx])\n",
    "            gini_right = gini_index(y[right_idx])\n",
    "            n = len(y)\n",
    "            gain = parent_gini - (len(y[left_idx]) / n * gini_left + len(y[right_idx]) / n * gini_right)\n",
    "\n",
    "            if gain > best_gain:\n",
    "                best_gain = gain\n",
    "                best_feature = feature\n",
    "                best_threshold = threshold\n",
    "\n",
    "    return best_feature, best_threshold\n"
   ]
  },
  {
   "cell_type": "code",
   "execution_count": 12,
   "id": "8c6052c2",
   "metadata": {},
   "outputs": [],
   "source": [
    "def build_tree(X, y, depth=0, max_depth=5):\n",
    "    if len(np.unique(y)) == 1 or depth >= max_depth:\n",
    "        leaf_value = np.bincount(y).argmax()\n",
    "        return Node(value=leaf_value)\n",
    "\n",
    "    feature, threshold = best_split(X, y)\n",
    "    if feature is None:\n",
    "        leaf_value = np.bincount(y).argmax()\n",
    "        return Node(value=leaf_value)\n",
    "\n",
    "    left_idx = X[feature] <= threshold\n",
    "    right_idx = X[feature] > threshold\n",
    "\n",
    "    left = build_tree(X[left_idx], y[left_idx], depth + 1, max_depth)\n",
    "    right = build_tree(X[right_idx], y[right_idx], depth + 1, max_depth)\n",
    "    return Node(feature=feature, threshold=threshold, left=left, right=right)\n",
    "\n",
    "def predict_one(node, x):\n",
    "    while node.value is None:\n",
    "        if x[node.feature] <= node.threshold:\n",
    "            node = node.left\n",
    "        else:\n",
    "            node = node.right\n",
    "    return node.value\n",
    "\n",
    "def predict(tree, X):\n",
    "    return np.array([predict_one(tree, row) for _, row in X.iterrows()])\n"
   ]
  },
  {
   "cell_type": "code",
   "execution_count": 13,
   "id": "6860a7eb",
   "metadata": {},
   "outputs": [
    {
     "name": "stdout",
     "output_type": "stream",
     "text": [
      "Accuracy: 0.6666666666666666\n"
     ]
    }
   ],
   "source": [
    "tree = build_tree(X_train, y_train)\n",
    "preds = predict(tree, X_test)\n",
    "\n",
    "from sklearn.metrics import accuracy_score\n",
    "print(\"Accuracy:\", accuracy_score(y_test, preds))\n"
   ]
  }
 ],
 "metadata": {
  "kernelspec": {
   "display_name": "Python 3",
   "language": "python",
   "name": "python3"
  },
  "language_info": {
   "codemirror_mode": {
    "name": "ipython",
    "version": 3
   },
   "file_extension": ".py",
   "mimetype": "text/x-python",
   "name": "python",
   "nbconvert_exporter": "python",
   "pygments_lexer": "ipython3",
   "version": "3.13.1"
  }
 },
 "nbformat": 4,
 "nbformat_minor": 5
}
