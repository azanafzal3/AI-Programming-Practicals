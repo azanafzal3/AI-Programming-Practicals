{
 "cells": [
  {
   "cell_type": "markdown",
   "id": "ad06dcb0-6284-49b0-a778-58ecf37f28fa",
   "metadata": {},
   "source": [
    "# Artificial Intelligence Lab 4"
   ]
  },
  {
   "cell_type": "markdown",
   "id": "fb1a843b",
   "metadata": {},
   "source": [
    "### **TASK 1 : Pandas** "
   ]
  },
  {
   "cell_type": "code",
   "execution_count": 2,
   "id": "751ca494-c05e-4360-a414-1682a615d622",
   "metadata": {},
   "outputs": [],
   "source": [
    "#read the csv file Dataset.csv \n",
    "import pandas as pd \n",
    "data = pd.read_csv('Dataset.csv')"
   ]
  },
  {
   "cell_type": "code",
   "execution_count": 4,
   "id": "28657675",
   "metadata": {},
   "outputs": [
    {
     "name": "stdout",
     "output_type": "stream",
     "text": [
      "Dataset Information:\n",
      "<class 'pandas.core.frame.DataFrame'>\n",
      "RangeIndex: 175341 entries, 0 to 175340\n",
      "Data columns (total 36 columns):\n",
      " #   Column             Non-Null Count   Dtype  \n",
      "---  ------             --------------   -----  \n",
      " 0   dur                175341 non-null  float64\n",
      " 1   proto              175341 non-null  object \n",
      " 2   service            175341 non-null  object \n",
      " 3   state              175341 non-null  object \n",
      " 4   spkts              175341 non-null  int64  \n",
      " 5   dpkts              175341 non-null  int64  \n",
      " 6   sbytes             175341 non-null  int64  \n",
      " 7   dbytes             175341 non-null  int64  \n",
      " 8   rate               175341 non-null  float64\n",
      " 9   sload              175341 non-null  float64\n",
      " 10  dload              175341 non-null  float64\n",
      " 11  sloss              175341 non-null  int64  \n",
      " 12  dloss              175341 non-null  int64  \n",
      " 13  sinpkt             175341 non-null  float64\n",
      " 14  dinpkt             175341 non-null  float64\n",
      " 15  sjit               175341 non-null  float64\n",
      " 16  djit               175341 non-null  float64\n",
      " 17  swin               175341 non-null  int64  \n",
      " 18  stcpb              175341 non-null  int64  \n",
      " 19  dtcpb              175341 non-null  int64  \n",
      " 20  dwin               175341 non-null  int64  \n",
      " 21  tcprtt             175341 non-null  float64\n",
      " 22  synack             175341 non-null  float64\n",
      " 23  ackdat             175341 non-null  float64\n",
      " 24  smean              175341 non-null  int64  \n",
      " 25  dmean              175341 non-null  int64  \n",
      " 26  trans_depth        175341 non-null  int64  \n",
      " 27  response_body_len  175341 non-null  int64  \n",
      " 28  ct_src_dport_ltm   175341 non-null  int64  \n",
      " 29  ct_dst_sport_ltm   175341 non-null  int64  \n",
      " 30  is_ftp_login       175341 non-null  int64  \n",
      " 31  ct_ftp_cmd         175341 non-null  int64  \n",
      " 32  ct_flw_http_mthd   175341 non-null  int64  \n",
      " 33  is_sm_ips_ports    175341 non-null  int64  \n",
      " 34  attack_cat         175341 non-null  object \n",
      " 35  label              175341 non-null  int64  \n",
      "dtypes: float64(11), int64(21), object(4)\n",
      "memory usage: 48.2+ MB\n",
      "None\n"
     ]
    }
   ],
   "source": [
    "#find information about the data frame\n",
    "print(\"Dataset Information:\")\n",
    "print(data.info())"
   ]
  },
  {
   "cell_type": "code",
   "execution_count": 5,
   "id": "3dc128bb",
   "metadata": {},
   "outputs": [
    {
     "name": "stdout",
     "output_type": "stream",
     "text": [
      "\n",
      "Missing values in each column:\n",
      "dur                  0\n",
      "proto                0\n",
      "service              0\n",
      "state                0\n",
      "spkts                0\n",
      "dpkts                0\n",
      "sbytes               0\n",
      "dbytes               0\n",
      "rate                 0\n",
      "sload                0\n",
      "dload                0\n",
      "sloss                0\n",
      "dloss                0\n",
      "sinpkt               0\n",
      "dinpkt               0\n",
      "sjit                 0\n",
      "djit                 0\n",
      "swin                 0\n",
      "stcpb                0\n",
      "dtcpb                0\n",
      "dwin                 0\n",
      "tcprtt               0\n",
      "synack               0\n",
      "ackdat               0\n",
      "smean                0\n",
      "dmean                0\n",
      "trans_depth          0\n",
      "response_body_len    0\n",
      "ct_src_dport_ltm     0\n",
      "ct_dst_sport_ltm     0\n",
      "is_ftp_login         0\n",
      "ct_ftp_cmd           0\n",
      "ct_flw_http_mthd     0\n",
      "is_sm_ips_ports      0\n",
      "attack_cat           0\n",
      "label                0\n",
      "dtype: int64\n"
     ]
    }
   ],
   "source": [
    "#Identify and count the number of missing values in each column.\n",
    "missing_values = data.isnull().sum()\n",
    "print(\"\\nMissing values in each column:\")\n",
    "print(missing_values)"
   ]
  },
  {
   "cell_type": "code",
   "execution_count": 12,
   "id": "fbd2dac2",
   "metadata": {},
   "outputs": [
    {
     "name": "stdout",
     "output_type": "stream",
     "text": [
      "Index(['dur', 'proto', 'service', 'state', 'spkts', 'dpkts', 'sbytes',\n",
      "       'dbytes', 'rate', 'sload', 'dload', 'sloss', 'dloss', 'sinpkt',\n",
      "       'dinpkt', 'sjit', 'djit', 'swin', 'stcpb', 'dtcpb', 'dwin', 'tcprtt',\n",
      "       'synack', 'ackdat', 'smean', 'dmean', 'trans_depth',\n",
      "       'response_body_len', 'ct_src_dport_ltm', 'ct_dst_sport_ltm',\n",
      "       'is_ftp_login', 'ct_ftp_cmd', 'ct_flw_http_mthd', 'is_sm_ips_ports',\n",
      "       'attack_cat', 'label'],\n",
      "      dtype='object')\n",
      "\n",
      "Basic statistics for src_bytes, dst_bytes, and duration columns:\n",
      "             sbytes         dbytes       dur\n",
      "mean    8844.843836   14928.918564  1.359389\n",
      "50%      430.000000     164.000000  0.001582\n",
      "std   174765.644309  143654.217718  6.480249\n"
     ]
    }
   ],
   "source": [
    "#Compute and display basic statistics (mean, median, standard deviation) \n",
    "#for the src_bytes , dst_bytes , and duration columns.\n",
    "print(data.columns)\n",
    "\n",
    "corrected_columns = ['sbytes', 'dbytes', 'dur']  # Replace with actual column names\n",
    "statistics = data[corrected_columns].describe().loc[['mean', '50%', 'std']]\n",
    "print(\"\\nBasic statistics for src_bytes, dst_bytes, and duration columns:\")\n",
    "print(statistics)\n",
    "\n"
   ]
  },
  {
   "cell_type": "code",
   "execution_count": 15,
   "id": "286df5bc",
   "metadata": {},
   "outputs": [
    {
     "name": "stdout",
     "output_type": "stream",
     "text": [
      "\n",
      "Number of duplicate rows: 78519\n",
      "\n",
      "Dataset after removing duplicates:\n",
      "             dur proto service state  spkts  dpkts  sbytes  dbytes  \\\n",
      "0       0.121478   tcp       -   FIN      6      4     258     172   \n",
      "1       0.649902   tcp       -   FIN     14     38     734   42014   \n",
      "2       1.623129   tcp       -   FIN      8     16     364   13186   \n",
      "3       1.681642   tcp     ftp   FIN     12     12     628     770   \n",
      "4       0.449454   tcp       -   FIN     10      6     534     268   \n",
      "...          ...   ...     ...   ...    ...    ...     ...     ...   \n",
      "175267  1.914309   tcp    smtp   FIN     74     30   69997    2132   \n",
      "175277  3.719110   tcp       -   FIN     66    340    3086  426483   \n",
      "175299  0.996503   tcp    pop3   FIN     20     30     942   16684   \n",
      "175305  1.557125   tcp    smtp   FIN     28     22   12601    1954   \n",
      "175337  0.505762   tcp       -   FIN     10      8     620     354   \n",
      "\n",
      "              rate        sload  ...  trans_depth  response_body_len  \\\n",
      "0        74.087490   14158.9420  ...            0                  0   \n",
      "1        78.473370    8395.1120  ...            0                  0   \n",
      "2        14.170161    1572.2719  ...            0                  0   \n",
      "3        13.677108    2740.1790  ...            0                  0   \n",
      "4        33.373825    8561.4990  ...            0                  0   \n",
      "...            ...          ...  ...          ...                ...   \n",
      "175267   53.805313  288572.0000  ...            0                  0   \n",
      "175277  108.897020    6539.1987  ...            0                  0   \n",
      "175299   49.171955    7185.1265  ...            0                  0   \n",
      "175305   31.468250   62427.8700  ...            0                  0   \n",
      "175337   33.612648    8826.2860  ...            0                  0   \n",
      "\n",
      "        ct_src_dport_ltm  ct_dst_sport_ltm  is_ftp_login  ct_ftp_cmd  \\\n",
      "0                      1                 1             0           0   \n",
      "1                      1                 1             0           0   \n",
      "2                      1                 1             0           0   \n",
      "3                      1                 1             1           1   \n",
      "4                      2                 1             0           0   \n",
      "...                  ...               ...           ...         ...   \n",
      "175267                 1                 1             0           0   \n",
      "175277                 1                 1             0           0   \n",
      "175299                 1                 1             0           0   \n",
      "175305                 1                 1             0           0   \n",
      "175337                 1                 1             0           0   \n",
      "\n",
      "        ct_flw_http_mthd  is_sm_ips_ports  attack_cat  label  \n",
      "0                      0                0      Normal      0  \n",
      "1                      0                0      Normal      0  \n",
      "2                      0                0      Normal      0  \n",
      "3                      0                0      Normal      0  \n",
      "4                      0                0      Normal      0  \n",
      "...                  ...              ...         ...    ...  \n",
      "175267                 0                0    Exploits      1  \n",
      "175277                 0                0    Exploits      1  \n",
      "175299                 0                0    Exploits      1  \n",
      "175305                 0                0    Exploits      1  \n",
      "175337                 0                0   Shellcode      1  \n",
      "\n",
      "[96822 rows x 36 columns]\n"
     ]
    }
   ],
   "source": [
    "#Identify any duplicate rows and provide the number of duplicates. Remove\n",
    "#these duplicates from the dataset.\n",
    "duplicates_count = data.duplicated().sum()\n",
    "print(f\"\\nNumber of duplicate rows: {duplicates_count}\")\n",
    "data1 = data.drop_duplicates()\n",
    "print(\"\\nDataset after removing duplicates:\")\n",
    "print(data1)"
   ]
  },
  {
   "cell_type": "code",
   "execution_count": 17,
   "id": "8724dd62",
   "metadata": {},
   "outputs": [
    {
     "name": "stdout",
     "output_type": "stream",
     "text": [
      "\n",
      "Number of malicious records with sbytes > 10,000: 0\n",
      "\n",
      "Summary of filtered dataset:\n",
      "       dur  spkts  dpkts  sbytes  dbytes  rate  sload  dload  sloss  dloss  \\\n",
      "count  0.0    0.0    0.0     0.0     0.0   0.0    0.0    0.0    0.0    0.0   \n",
      "mean   NaN    NaN    NaN     NaN     NaN   NaN    NaN    NaN    NaN    NaN   \n",
      "std    NaN    NaN    NaN     NaN     NaN   NaN    NaN    NaN    NaN    NaN   \n",
      "min    NaN    NaN    NaN     NaN     NaN   NaN    NaN    NaN    NaN    NaN   \n",
      "25%    NaN    NaN    NaN     NaN     NaN   NaN    NaN    NaN    NaN    NaN   \n",
      "50%    NaN    NaN    NaN     NaN     NaN   NaN    NaN    NaN    NaN    NaN   \n",
      "75%    NaN    NaN    NaN     NaN     NaN   NaN    NaN    NaN    NaN    NaN   \n",
      "max    NaN    NaN    NaN     NaN     NaN   NaN    NaN    NaN    NaN    NaN   \n",
      "\n",
      "       ...  dmean  trans_depth  response_body_len  ct_src_dport_ltm  \\\n",
      "count  ...    0.0          0.0                0.0               0.0   \n",
      "mean   ...    NaN          NaN                NaN               NaN   \n",
      "std    ...    NaN          NaN                NaN               NaN   \n",
      "min    ...    NaN          NaN                NaN               NaN   \n",
      "25%    ...    NaN          NaN                NaN               NaN   \n",
      "50%    ...    NaN          NaN                NaN               NaN   \n",
      "75%    ...    NaN          NaN                NaN               NaN   \n",
      "max    ...    NaN          NaN                NaN               NaN   \n",
      "\n",
      "       ct_dst_sport_ltm  is_ftp_login  ct_ftp_cmd  ct_flw_http_mthd  \\\n",
      "count               0.0           0.0         0.0               0.0   \n",
      "mean                NaN           NaN         NaN               NaN   \n",
      "std                 NaN           NaN         NaN               NaN   \n",
      "min                 NaN           NaN         NaN               NaN   \n",
      "25%                 NaN           NaN         NaN               NaN   \n",
      "50%                 NaN           NaN         NaN               NaN   \n",
      "75%                 NaN           NaN         NaN               NaN   \n",
      "max                 NaN           NaN         NaN               NaN   \n",
      "\n",
      "       is_sm_ips_ports  label  \n",
      "count              0.0    0.0  \n",
      "mean               NaN    NaN  \n",
      "std                NaN    NaN  \n",
      "min                NaN    NaN  \n",
      "25%                NaN    NaN  \n",
      "50%                NaN    NaN  \n",
      "75%                NaN    NaN  \n",
      "max                NaN    NaN  \n",
      "\n",
      "[8 rows x 32 columns]\n"
     ]
    }
   ],
   "source": [
    "# Filter the dataset to include only records labeled as malicious .\n",
    "# Count how many records have src_bytes greater than 10,000. Provide a\n",
    "# summary of this filtered dataset.\n",
    "malicious_data = data[data['label'] == 'malicious']\n",
    "high_sbytes_count = (malicious_data['sbytes'] > 10000).sum()\n",
    "print(f\"\\nNumber of malicious records with sbytes > 10,000: {high_sbytes_count}\")\n",
    "print(\"\\nSummary of filtered dataset:\")\n",
    "print(malicious_data.describe())\n"
   ]
  },
  {
   "cell_type": "code",
   "execution_count": 18,
   "id": "be214624",
   "metadata": {},
   "outputs": [
    {
     "name": "stdout",
     "output_type": "stream",
     "text": [
      "\n",
      "Sample of HighByteTraffic column:\n",
      "   sbytes HighByteTraffic\n",
      "0     258             Low\n",
      "1     734             Low\n",
      "2     364             Low\n",
      "3     628             Low\n",
      "4     534             Low\n"
     ]
    }
   ],
   "source": [
    "# Create a binary feature called HighByteTraffic . Classify src_bytes as\n",
    "# 'High' if it exceeds 10,000 bytes and 'Low' otherwise. Add this feature\n",
    "# to the dataset.\n",
    "\n",
    "data['HighByteTraffic'] = data['sbytes'].apply(lambda x: 'High' if x > 10000 else 'Low')\n",
    "print(\"\\nSample of HighByteTraffic column:\")\n",
    "print(data[['sbytes', 'HighByteTraffic']].head())"
   ]
  },
  {
   "cell_type": "code",
   "execution_count": 20,
   "id": "207a779f",
   "metadata": {},
   "outputs": [
    {
     "name": "stdout",
     "output_type": "stream",
     "text": [
      "\n",
      "Average values for sbytes, dbytes and dur grouped by label:\n",
      "             sbytes        dbytes       dur\n",
      "label                                      \n",
      "0       4105.702929  31049.463143  1.017177\n",
      "1      11068.655357   7364.456256  1.519969\n"
     ]
    }
   ],
   "source": [
    "# Group the dataset by the label column and compute the average values\n",
    "# for src_bytes , dst_bytes , and duration .\n",
    "grouped_data=data.groupby('label')[['sbytes', 'dbytes', 'dur']].mean()\n",
    "print(\"\\nAverage values for sbytes, dbytes and dur grouped by label:\")\n",
    "print(grouped_data)\n"
   ]
  },
  {
   "cell_type": "code",
   "execution_count": 21,
   "id": "635d2799",
   "metadata": {},
   "outputs": [
    {
     "name": "stdout",
     "output_type": "stream",
     "text": [
      "\n",
      "Sample of TrafficRatio column:\n",
      "   sbytes  dbytes  TrafficRatio\n",
      "0     258     172      0.666667\n",
      "1     734   42014     57.239782\n",
      "2     364   13186     36.225275\n",
      "3     628     770      1.226115\n",
      "4     534     268      0.501873\n"
     ]
    },
    {
     "name": "stderr",
     "output_type": "stream",
     "text": [
      "C:\\Users\\Muhammad Azan Afzal\\AppData\\Local\\Temp\\ipykernel_6464\\383240927.py:4: FutureWarning: A value is trying to be set on a copy of a DataFrame or Series through chained assignment using an inplace method.\n",
      "The behavior will change in pandas 3.0. This inplace method will never work because the intermediate object on which we are setting values always behaves as a copy.\n",
      "\n",
      "For example, when doing 'df[col].method(value, inplace=True)', try using 'df.method({col: value}, inplace=True)' or df[col] = df[col].method(value) instead, to perform the operation inplace on the original object.\n",
      "\n",
      "\n",
      "  data['TrafficRatio'].fillna(0, inplace=True)\n"
     ]
    }
   ],
   "source": [
    "# Create a new feature called TrafficRatio , defined as dst_bytes divided\n",
    "# by src_bytes .\n",
    "data['TrafficRatio']=data['dbytes']/data['sbytes']\n",
    "data['TrafficRatio'].fillna(0, inplace=True)\n",
    "print(\"\\nSample of TrafficRatio column:\")\n",
    "print(data[['sbytes', 'dbytes', 'TrafficRatio']].head())\n"
   ]
  },
  {
   "cell_type": "code",
   "execution_count": 26,
   "id": "d0af8b38",
   "metadata": {},
   "outputs": [
    {
     "name": "stdout",
     "output_type": "stream",
     "text": [
      "Index(['dur', 'proto', 'service', 'state', 'spkts', 'dpkts', 'sbytes',\n",
      "       'dbytes', 'rate', 'sload', 'dload', 'sloss', 'dloss', 'sinpkt',\n",
      "       'dinpkt', 'sjit', 'djit', 'swin', 'stcpb', 'dtcpb', 'dwin', 'tcprtt',\n",
      "       'synack', 'ackdat', 'smean', 'dmean', 'trans_depth',\n",
      "       'response_body_len', 'ct_src_dport_ltm', 'ct_dst_sport_ltm',\n",
      "       'is_ftp_login', 'ct_ftp_cmd', 'ct_flw_http_mthd', 'is_sm_ips_ports',\n",
      "       'attack_cat', 'label', 'HighByteTraffic', 'TrafficRatio'],\n",
      "      dtype='object')\n",
      "\n",
      "Average src_bytes grouped by protocol:\n",
      "proto\n",
      "3pc          200.0\n",
      "a/n          200.0\n",
      "aes-sp3-d    200.0\n",
      "any          200.0\n",
      "argus        180.0\n",
      "             ...  \n",
      "wsn          200.0\n",
      "xnet         180.0\n",
      "xns-idp      200.0\n",
      "xtp          200.0\n",
      "zero         200.0\n",
      "Name: sbytes, Length: 133, dtype: float64\n"
     ]
    }
   ],
   "source": [
    "# Group the data by protocol and calculate the average src_bytes ,\n",
    "# dst_bytes , and duration for each protocol type.\n",
    "print(data.columns)\n",
    "\n",
    "protocol_grouped = data.groupby('proto')['sbytes'].mean()\n",
    "print(\"\\nAverage src_bytes grouped by protocol:\")\n",
    "print(protocol_grouped)\n",
    "\n"
   ]
  },
  {
   "cell_type": "code",
   "execution_count": null,
   "id": "a8e82619",
   "metadata": {},
   "outputs": [],
   "source": []
  }
 ],
 "metadata": {
  "kernelspec": {
   "display_name": "Python 3",
   "language": "python",
   "name": "python3"
  },
  "language_info": {
   "codemirror_mode": {
    "name": "ipython",
    "version": 3
   },
   "file_extension": ".py",
   "mimetype": "text/x-python",
   "name": "python",
   "nbconvert_exporter": "python",
   "pygments_lexer": "ipython3",
   "version": "3.13.1"
  }
 },
 "nbformat": 4,
 "nbformat_minor": 5
}
